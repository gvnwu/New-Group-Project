{
 "cells": [
  {
   "cell_type": "code",
   "execution_count": 1,
   "id": "c686905a-86c1-4124-8ac7-e689fb0e8c86",
   "metadata": {
    "jupyter": {
     "source_hidden": true
    }
   },
   "outputs": [
    {
     "name": "stderr",
     "output_type": "stream",
     "text": [
      "── \u001b[1mAttaching core tidyverse packages\u001b[22m ──────────────────────── tidyverse 2.0.0 ──\n",
      "\u001b[32m✔\u001b[39m \u001b[34mdplyr    \u001b[39m 1.1.4     \u001b[32m✔\u001b[39m \u001b[34mreadr    \u001b[39m 2.1.5\n",
      "\u001b[32m✔\u001b[39m \u001b[34mforcats  \u001b[39m 1.0.0     \u001b[32m✔\u001b[39m \u001b[34mstringr  \u001b[39m 1.5.1\n",
      "\u001b[32m✔\u001b[39m \u001b[34mggplot2  \u001b[39m 3.5.1     \u001b[32m✔\u001b[39m \u001b[34mtibble   \u001b[39m 3.2.1\n",
      "\u001b[32m✔\u001b[39m \u001b[34mlubridate\u001b[39m 1.9.3     \u001b[32m✔\u001b[39m \u001b[34mtidyr    \u001b[39m 1.3.1\n",
      "\u001b[32m✔\u001b[39m \u001b[34mpurrr    \u001b[39m 1.0.2     \n",
      "── \u001b[1mConflicts\u001b[22m ────────────────────────────────────────── tidyverse_conflicts() ──\n",
      "\u001b[31m✖\u001b[39m \u001b[34mdplyr\u001b[39m::\u001b[32mfilter()\u001b[39m masks \u001b[34mstats\u001b[39m::filter()\n",
      "\u001b[31m✖\u001b[39m \u001b[34mdplyr\u001b[39m::\u001b[32mlag()\u001b[39m    masks \u001b[34mstats\u001b[39m::lag()\n",
      "\u001b[36mℹ\u001b[39m Use the conflicted package (\u001b[3m\u001b[34m<http://conflicted.r-lib.org/>\u001b[39m\u001b[23m) to force all conflicts to become errors\n",
      "── \u001b[1mAttaching packages\u001b[22m ────────────────────────────────────── tidymodels 1.1.1 ──\n",
      "\n",
      "\u001b[32m✔\u001b[39m \u001b[34mbroom       \u001b[39m 1.0.6     \u001b[32m✔\u001b[39m \u001b[34mrsample     \u001b[39m 1.2.1\n",
      "\u001b[32m✔\u001b[39m \u001b[34mdials       \u001b[39m 1.3.0     \u001b[32m✔\u001b[39m \u001b[34mtune        \u001b[39m 1.1.2\n",
      "\u001b[32m✔\u001b[39m \u001b[34minfer       \u001b[39m 1.0.7     \u001b[32m✔\u001b[39m \u001b[34mworkflows   \u001b[39m 1.1.4\n",
      "\u001b[32m✔\u001b[39m \u001b[34mmodeldata   \u001b[39m 1.4.0     \u001b[32m✔\u001b[39m \u001b[34mworkflowsets\u001b[39m 1.0.1\n",
      "\u001b[32m✔\u001b[39m \u001b[34mparsnip     \u001b[39m 1.2.1     \u001b[32m✔\u001b[39m \u001b[34myardstick   \u001b[39m 1.3.1\n",
      "\u001b[32m✔\u001b[39m \u001b[34mrecipes     \u001b[39m 1.1.0     \n",
      "\n",
      "── \u001b[1mConflicts\u001b[22m ───────────────────────────────────────── tidymodels_conflicts() ──\n",
      "\u001b[31m✖\u001b[39m \u001b[34mscales\u001b[39m::\u001b[32mdiscard()\u001b[39m masks \u001b[34mpurrr\u001b[39m::discard()\n",
      "\u001b[31m✖\u001b[39m \u001b[34mdplyr\u001b[39m::\u001b[32mfilter()\u001b[39m   masks \u001b[34mstats\u001b[39m::filter()\n",
      "\u001b[31m✖\u001b[39m \u001b[34mrecipes\u001b[39m::\u001b[32mfixed()\u001b[39m  masks \u001b[34mstringr\u001b[39m::fixed()\n",
      "\u001b[31m✖\u001b[39m \u001b[34mdplyr\u001b[39m::\u001b[32mlag()\u001b[39m      masks \u001b[34mstats\u001b[39m::lag()\n",
      "\u001b[31m✖\u001b[39m \u001b[34myardstick\u001b[39m::\u001b[32mspec()\u001b[39m masks \u001b[34mreadr\u001b[39m::spec()\n",
      "\u001b[31m✖\u001b[39m \u001b[34mrecipes\u001b[39m::\u001b[32mstep()\u001b[39m   masks \u001b[34mstats\u001b[39m::step()\n",
      "\u001b[34m•\u001b[39m Search for functions across packages at \u001b[32mhttps://www.tidymodels.org/find/\u001b[39m\n",
      "\n"
     ]
    }
   ],
   "source": [
    "library(tidyverse)\n",
    "library(repr)\n",
    "library(tidymodels)\n",
    "library(lubridate)\n",
    "library(dplyr) \n",
    "library(themis)\n",
    "library(RColorBrewer)"
   ]
  },
  {
   "cell_type": "markdown",
   "id": "646e6e65-15a9-4079-abeb-18a3a9f5bca3",
   "metadata": {},
   "source": [
    "# Group Project Report\n",
    "\n",
    "## Overview\n",
    "The dataset includes two files:\n",
    "- **players.csv**: Contains information about each unique player.\n",
    "- **sessions.csv**: Contains details of individual play sessions for each player."
   ]
  },
  {
   "cell_type": "markdown",
   "id": "54081359-ed1a-4135-83ca-a57a48ee489f",
   "metadata": {},
   "source": [
    "## Project Question\n",
    "The question we want to answer is: *\"How do experience level, age, and start time influence player behavior, particularly in terms of peak simultaneous activity and total session time played?\"*\n",
    "\n",
    "### Response and Explanatory Variables\n",
    "- **Response Variable**: `number_of_simultaneous_players` (The number of players connected during specific time windows)\n",
    "- **Explanatory Variables**: `start_time` (Start time of sessions), `end_time` (End time of sessions), `played_hours` (Total hours played by players)\n",
    "\n",
    "### Explanation\n",
    "Analyzing the session data, including `start_time`, `end_time`, and `played_hours`, will help identify patterns in player activity. This insight will allow us to forecast peak times and predict high-demand windows effectively. Understanding these patterns supports better resource management, ensuring the server can accommodate all parallel users efficiently."
   ]
  },
  {
   "cell_type": "markdown",
   "id": "cbae499f-ce18-471d-809e-eba0d6df3547",
   "metadata": {},
   "source": [
    "## Variable Summary for `players_data`\n",
    "| Variable Name       | Data Type    | Description                                    | Issues/Notes                          |\n",
    "|---------------------|--------------|------------------------------------------------|---------------------------------------|\n",
    "| `experience`        | Character    | Player's level of experience (e.g., Pro, Veteran, Amateur) | None                                 |\n",
    "| `subscribe`         | Logical      | Indicates whether the player is subscribed (TRUE/FALSE) | None                                 |\n",
    "| `hashedEmail`       | Character    | Hashed version of the player's email for identification | Used as an identifier, not human-readable |\n",
    "| `played_hours`      | Numeric      | Total number of hours the player has played   | Check for outliers in high values    |\n",
    "| `name`              | Character    | Player's first name                            | Potential data privacy concern       |\n",
    "| `gender`            | Character    | Gender of the player (e.g., Male, Female)      | Ensure consistent formatting         |\n",
    "| `age`               | Numeric      | Age of the player                              | Check for outliers (e.g., age = 99)  |\n",
    "| `individualId`      | Logical      | Individual ID (all NA values)                  | All values are missing (NA)          |\n",
    "| `organizationName`  | Logical      | Name of the player's organization (all NA values) | All values are missing (NA)          |"
   ]
  },
  {
   "cell_type": "markdown",
   "id": "7597f0fd-9154-456f-aced-345d30c797db",
   "metadata": {},
   "source": [
    "## Variable Summary for `sessions_data`\n",
    "| Variable Name         | Data Type    | Description                                    | Issues/Notes                          |\n",
    "|-----------------------|--------------|------------------------------------------------|---------------------------------------|\n",
    "| `hashedEmail`         | Character    | Hashed version of the player's email for identification | Used as an identifier to link with `players_data` |\n",
    "| `start_time`          | Character    | Start time of the play session (format: \"DD/MM/YYYY HH:MM\") | Needs conversion to datetime format |\n",
    "| `end_time`            | Character    | End time of the play session (format: \"DD/MM/YYYY HH:MM\") | Needs conversion to datetime format |\n",
    "| `original_start_time` | Numeric      | Original start time in a numeric format (timestamp) | Ensure consistency with `start_time` |\n",
    "| `original_end_time`   | Numeric      | Original end time in a numeric format (timestamp) | Ensure consistency with `end_time`; 2 missing values |"
   ]
  },
  {
   "cell_type": "markdown",
   "id": "8a0f7750-767f-46d2-87a6-d20b84a4a790",
   "metadata": {},
   "source": [
    "## How Was the Data Collected?\n",
    "The data was collected from a MineCraft server set up by a research group at UBC, which records player activity and session details as players interact with the game. This automated process captures data such as player demographics and session times, providing valuable insights into player behavior and server usage.\n"
   ]
  },
  {
   "cell_type": "markdown",
   "id": "a6293076-9155-4d6b-a025-e6ff48a76d14",
   "metadata": {},
   "source": [
    "## Background Information \n",
    "Why is this research Important: This research is crucial for optimizing server resources, targeting recruitment efforts, and understanding player behavior in digital environments.\n",
    "\n",
    "Data Entry Inaccuracies: While the data is automatically collected, potential inaccuracies can arise due to software glitches or server interruptions. For instance, session start and end times could be incorrectly logged if there is an issue with the server or if a player disconnects unexpectedly.\n",
    "\n",
    "Player Demographics: The player demographic consists primarily of younger players, with the most common age range being 10-30 years. Players vary in experience, with a significant proportion identifying as \"Regular\" or \"Amateur\". "
   ]
  },
  {
   "cell_type": "code",
   "execution_count": null,
   "id": "49a81408-9aef-4623-ba0c-40f501f428d2",
   "metadata": {},
   "outputs": [],
   "source": [
    "#Reading the files\n",
    "url_players <- \"https://drive.google.com/uc?export=download&id=1Mw9vW0hjTJwRWx0bDXiSpYsO3gKogaPz\"\n",
    "players_data <- read_csv(url_players)\n",
    "\n",
    "url_sessions <- \"https://drive.google.com/uc?export=download&id=14O91N5OlVkvdGxXNJUj5jIsV5RexhzbB\"\n",
    "sessions_data <- read_csv(url_sessions)\n"
   ]
  },
  {
   "cell_type": "code",
   "execution_count": null,
   "id": "2e33c4dc-461a-4d99-819c-4f0e239683e1",
   "metadata": {},
   "outputs": [],
   "source": [
    "# Merge datasets on hashedEmail\n",
    "merged_data <- merge(sessions_data, players_data, by = \"hashedEmail\")\n",
    "\n",
    "# Convert start_time and end_time to datetime format\n",
    "merged_data <- merged_data |>\n",
    "    mutate(start_time = dmy_hm(start_time), end_time = dmy_hm(end_time))\n",
    "\n",
    "# Create session_duration in minutes\n",
    "merged_data <- merged_data |>\n",
    "    mutate(session_duration = as.numeric(difftime(end_time, start_time, units = \"mins\")))\n",
    "\n",
    "# Encode experience levels as numeric\n",
    "# Beginner = 1, Amateur = 2, Regular = 3, Veteran = 4, Pro = 5\n",
    "merged_data <- merged_data |>\n",
    "    mutate(experience_encoded = as.numeric(factor(experience)))\n",
    "\n",
    "# Filter necessary columns and remove missing values\n",
    "filtered_data <- merged_data |>\n",
    "    select(session_duration, experience_encoded, age) |>\n",
    "    na.omit()\n",
    "filtered_data"
   ]
  }
 ],
 "metadata": {
  "kernelspec": {
   "display_name": "R",
   "language": "R",
   "name": "ir"
  },
  "language_info": {
   "codemirror_mode": "r",
   "file_extension": ".r",
   "mimetype": "text/x-r-source",
   "name": "R",
   "pygments_lexer": "r",
   "version": "4.3.3"
  }
 },
 "nbformat": 4,
 "nbformat_minor": 5
}
